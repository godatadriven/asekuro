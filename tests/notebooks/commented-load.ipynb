{
 "cells": [
  {
   "cell_type": "code",
   "execution_count": null,
   "id": "6a355e27-c054-45f8-b779-b3c804ec6dee",
   "metadata": {},
   "outputs": [],
   "source": [
    "# %load nbcontent.py"
   ]
  },
  {
   "cell_type": "code",
   "execution_count": null,
   "id": "9e4dd49f-abf1-4f0a-96d8-06c60d5ab24c",
   "metadata": {},
   "outputs": [],
   "source": [
    "test_value == 42"
   ]
  },
  {
   "cell_type": "code",
   "execution_count": null,
   "id": "ee9c81cb-e1b4-40ed-9c98-32973ad4c3ea",
   "metadata": {},
   "outputs": [],
   "source": [
    "#%load nbcontent-2.py"
   ]
  },
  {
   "cell_type": "code",
   "execution_count": null,
   "id": "0131b124-1e5d-4d14-a9ab-79e4968460ca",
   "metadata": {},
   "outputs": [],
   "source": [
    "another_test_value == 42"
   ]
  }
 ],
 "metadata": {
  "kernelspec": {
   "display_name": "Python 3 (ipykernel)",
   "language": "python",
   "name": "python3"
  },
  "language_info": {
   "codemirror_mode": {
    "name": "ipython",
    "version": 3
   },
   "file_extension": ".py",
   "mimetype": "text/x-python",
   "name": "python",
   "nbconvert_exporter": "python",
   "pygments_lexer": "ipython3",
   "version": "3.11.3"
  }
 },
 "nbformat": 4,
 "nbformat_minor": 5
}
